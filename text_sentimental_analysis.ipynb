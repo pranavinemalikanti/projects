{
  "cells": [
    {
      "cell_type": "markdown",
      "metadata": {
        "id": "view-in-github",
        "colab_type": "text"
      },
      "source": [
        "<a href=\"https://colab.research.google.com/github/pranavinemalikanti/projects/blob/main/text_sentimental_analysis.ipynb\" target=\"_parent\"><img src=\"https://colab.research.google.com/assets/colab-badge.svg\" alt=\"Open In Colab\"/></a>"
      ]
    },
    {
      "cell_type": "code",
      "execution_count": null,
      "id": "94aa503f",
      "metadata": {
        "id": "94aa503f"
      },
      "outputs": [],
      "source": [
        "#importing necessary modules\n",
        "import requests\n",
        "from bs4 import BeautifulSoup\n",
        "from textblob import TextBlob"
      ]
    },
    {
      "cell_type": "code",
      "execution_count": null,
      "id": "0df770dc",
      "metadata": {
        "id": "0df770dc"
      },
      "outputs": [],
      "source": [
        "def get_comments(url):\n",
        "    #sending request to url\n",
        "    response = requests.get(url)\n",
        "    if response.status_code == 200:\n",
        "        #parsing the html\n",
        "        soup = BeautifulSoup(response.text, 'html.parser')\n",
        "        #extracting div tag contents\n",
        "        comments_list = soup.find('div', class_='comment-body')\n",
        "        if comments_list:\n",
        "            #extracting comments from p tag\n",
        "            comments = comments_list.find_all('p')\n",
        "            return [comment.get_text(strip=True) for comment in comments]\n",
        "        else:\n",
        "            return []\n",
        "    else:\n",
        "        print(f\"Couldn't get to the webpage\\nStatus code: {response.status_code} \")\n",
        "        return []\n"
      ]
    },
    {
      "cell_type": "code",
      "execution_count": null,
      "id": "84c02bcc",
      "metadata": {
        "id": "84c02bcc"
      },
      "outputs": [],
      "source": [
        "def get_sentiment_analysis(comment):\n",
        "    analysis = TextBlob(comment)\n",
        "    '''using textblob to analyze the sentiment of the comment\n",
        "    Returns 1 if comment is positive and returns 0 if negative'''\n",
        "    if analysis.sentiment.polarity > 0:\n",
        "        return 1\n",
        "    else:\n",
        "        return 0\n"
      ]
    },
    {
      "cell_type": "code",
      "execution_count": null,
      "id": "c55ff4c7",
      "metadata": {
        "id": "c55ff4c7"
      },
      "outputs": [],
      "source": [
        "url = \"https://animemangatoon.com/difference-between-manga-and-manhwa-webtoon/\""
      ]
    },
    {
      "cell_type": "code",
      "execution_count": null,
      "id": "468914f2",
      "metadata": {
        "id": "468914f2"
      },
      "outputs": [],
      "source": [
        "#extracting comments\n",
        "comments = get_comments(url)\n",
        "sentiment = []"
      ]
    },
    {
      "cell_type": "code",
      "execution_count": null,
      "id": "5d15f837",
      "metadata": {
        "id": "5d15f837"
      },
      "outputs": [],
      "source": [
        "#storing sentiment of the comment in a list\n",
        "for comment in comments:\n",
        "    sentiment.append(get_sentiment_analysis(comment))"
      ]
    },
    {
      "cell_type": "code",
      "execution_count": null,
      "id": "0983ec0e",
      "metadata": {
        "id": "0983ec0e",
        "outputId": "69a8174a-2cf6-4146-a2f1-4578394ff2db"
      },
      "outputs": [
        {
          "name": "stdout",
          "output_type": "stream",
          "text": [
            "UserComments:\n",
            " 1) One of the best articles ever written on the topic. It clearly reflects the differences without any unnecessary details and is really to the point. Great job, Shweta!\n"
          ]
        }
      ],
      "source": [
        "#Printing all the UserComments\n",
        "print(\"UserComments:\")\n",
        "for comment in comments:\n",
        "    print(f' {comment.index(comment)+1}) {comment}')"
      ]
    },
    {
      "cell_type": "code",
      "execution_count": null,
      "id": "9654a8a0",
      "metadata": {
        "id": "9654a8a0",
        "outputId": "3ecf19ca-e1e0-458c-f9b0-e80cf3040fb5"
      },
      "outputs": [
        {
          "name": "stdout",
          "output_type": "stream",
          "text": [
            "Summary:\n",
            "Total number of comments:1\n",
            "Positive comments: 100% \n",
            " Negative comments: 0%\n"
          ]
        }
      ],
      "source": [
        "#Summary\n",
        "print(f\"Summary:\\nTotal number of comments:{len(sentiment)}\\nPositive comments: {round((sentiment.count(1) / len(sentiment)) * 100)}% \\nNegative comments: {round((sentiment.count(0) / len(sentiment)) * 100)}%\")"
      ]
    }
  ],
  "metadata": {
    "kernelspec": {
      "display_name": "Python 3 (ipykernel)",
      "language": "python",
      "name": "python3"
    },
    "language_info": {
      "codemirror_mode": {
        "name": "ipython",
        "version": 3
      },
      "file_extension": ".py",
      "mimetype": "text/x-python",
      "name": "python",
      "nbconvert_exporter": "python",
      "pygments_lexer": "ipython3",
      "version": "3.11.5"
    },
    "colab": {
      "provenance": [],
      "include_colab_link": true
    }
  },
  "nbformat": 4,
  "nbformat_minor": 5
}