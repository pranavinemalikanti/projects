{
  "cells": [
    {
      "cell_type": "markdown",
      "metadata": {
        "id": "view-in-github",
        "colab_type": "text"
      },
      "source": [
        "<a href=\"https://colab.research.google.com/github/pranavinemalikanti/projects/blob/main/Castle_Swimmer_Chatbot.ipynb\" target=\"_parent\"><img src=\"https://colab.research.google.com/assets/colab-badge.svg\" alt=\"Open In Colab\"/></a>"
      ]
    },
    {
      "cell_type": "code",
      "execution_count": null,
      "id": "320a09a2",
      "metadata": {
        "id": "320a09a2"
      },
      "outputs": [],
      "source": [
        "#importing libraries\n",
        "import nltk\n",
        "from nltk.tokenize import word_tokenize\n",
        "from bs4 import BeautifulSoup\n",
        "import requests\n",
        "import random"
      ]
    },
    {
      "cell_type": "code",
      "execution_count": null,
      "id": "10268a68",
      "metadata": {
        "id": "10268a68",
        "outputId": "77ba42c2-c16b-494f-a4a2-523ee90135ea"
      },
      "outputs": [
        {
          "name": "stderr",
          "output_type": "stream",
          "text": [
            "[nltk_data] Downloading package punkt_tab to\n",
            "[nltk_data]     C:\\Users\\pranavi\\AppData\\Roaming\\nltk_data...\n",
            "[nltk_data]   Package punkt_tab is already up-to-date!\n"
          ]
        },
        {
          "data": {
            "text/plain": [
              "True"
            ]
          },
          "execution_count": 3,
          "metadata": {},
          "output_type": "execute_result"
        }
      ],
      "source": [
        "#downloading required package\n",
        "nltk.download('punkt_tab')"
      ]
    },
    {
      "cell_type": "code",
      "execution_count": null,
      "id": "75e6548b",
      "metadata": {
        "id": "75e6548b"
      },
      "outputs": [],
      "source": [
        "#dict to store required data in the website\n",
        "website_data = {\n",
        "    'Greetings':['Hi','Hello','Hey','Hi, How are you?']\n",
        "}"
      ]
    },
    {
      "cell_type": "code",
      "execution_count": null,
      "id": "c5325829",
      "metadata": {
        "id": "c5325829"
      },
      "outputs": [],
      "source": [
        "def get_info():\n",
        "\n",
        "    url = \"https://animemangatoon.com/castle-swimmer-unveiling-new-prophecy/\"\n",
        "\n",
        "    #sending request to url\n",
        "    response = requests.get(url)\n",
        "\n",
        "    if response.status_code == 200:\n",
        "        #parsing the html page\n",
        "        soup = BeautifulSoup(response.text, 'html.parser')\n",
        "\n",
        "        #finding div tag of required text\n",
        "        description_list = soup.find('div',class_='content-inner')\n",
        "\n",
        "        if description_list:\n",
        "            description_span_list = description_list.find_all('span')\n",
        "\n",
        "            #filtering for empty strings in list\n",
        "            description_span_list = list(filter(None, description_span_list))\n",
        "\n",
        "            #grouping the indices of required texts\n",
        "            grouping = [\n",
        "                (0,),\n",
        "                (8,9,10,11,12,13),\n",
        "                (14,15,16,17,18),\n",
        "                (21,22,23,24,25,26),\n",
        "                (28,29,30),\n",
        "                (33,34,35,36,37),\n",
        "                (38,39,40,41,42,43,44,45,46,47),\n",
        "                (48,49,50,51),\n",
        "            ]\n",
        "\n",
        "            for i,group in enumerate(grouping):\n",
        "\n",
        "                #joining required texts based on content of chapters\n",
        "                text = \" \".join([description_span_list[index].get_text(strip=True) for index in group])\n",
        "\n",
        "                #creating a key in dictionary for the above value\n",
        "                key = f\"group_{i+1}\"\n",
        "\n",
        "                #storing the text in the above key\n",
        "                website_data[key] = text\n",
        "\n",
        "        return website_data\n",
        "    else:\n",
        "        return None\n"
      ]
    },
    {
      "cell_type": "code",
      "execution_count": null,
      "id": "caa7722f",
      "metadata": {
        "id": "caa7722f"
      },
      "outputs": [],
      "source": [
        "info = get_info()    #getting website_data"
      ]
    },
    {
      "cell_type": "code",
      "execution_count": null,
      "id": "1d022167",
      "metadata": {
        "id": "1d022167"
      },
      "outputs": [],
      "source": [
        "def get_response(user_input):\n",
        "    if not info:\n",
        "        return \"Couldn't find information on castle swimmer right now!\"\n",
        "\n",
        "\n",
        "    #tokenization\n",
        "    tokens = word_tokenize(user_input.lower())\n",
        "\n",
        "\n",
        "    #keyword matching\n",
        "\n",
        "    if ('castle' in tokens and 'swimmer' in tokens)or(('castle' in tokens and 'swimmer' in tokens) and ('about' in tokens or 'plot' in tokens or 'summary' in tokens or 'story' in tokens)):\n",
        "        return website_data['group_1']\n",
        "    elif 'chapter' in tokens and '83' in tokens:\n",
        "        return website_data['group_2']\n",
        "    elif 'chapter' in tokens and '84' in tokens:\n",
        "        return website_data['group_3']\n",
        "    elif 'chapter' in tokens and '85' in tokens:\n",
        "        return website_data['group_4']\n",
        "    elif 'chapter'in tokens and '86' in tokens:\n",
        "        return website_data['group_5']\n",
        "    elif 'chapter'in tokens and '87' in tokens:\n",
        "        return website_data['group_6']\n",
        "    elif 'chapter'in tokens and '88' in tokens:\n",
        "        return website_data['group_7']\n",
        "    elif 'chapter'in tokens and '89' in tokens:\n",
        "        return website_data['group_8']\n",
        "    elif ('hi' in tokens) or ('hello' in tokens) or ('hey' in tokens):\n",
        "        return random.choice(website_data['Greetings'])\n",
        "    else:\n",
        "        return \"I'm not sure how to answer that. Can you ask me about something else?\"\n",
        ""
      ]
    },
    {
      "cell_type": "code",
      "execution_count": null,
      "id": "238f2c0f",
      "metadata": {
        "id": "238f2c0f"
      },
      "outputs": [],
      "source": [
        "def chatbot():\n",
        "    print(\"\\n\\nCASTLE SWIMMER CHATBOT\\nChatbot: Hi! You can ask me about Castle Swimmer.\")\n",
        "\n",
        "    while True:\n",
        "        user_input = input(\"You:\")\n",
        "\n",
        "        #bye\n",
        "        if user_input.lower() in ['bye','quit','exit']:\n",
        "            print(\"Chatbot: Goodbye!\")\n",
        "            break;\n",
        "\n",
        "        #sending input to the function get_response\n",
        "        response = get_response(user_input)\n",
        "        print(f\"Chatbot: {response}\")"
      ]
    },
    {
      "cell_type": "code",
      "execution_count": null,
      "id": "da678cd3",
      "metadata": {
        "id": "da678cd3",
        "outputId": "72a36e0f-f5fc-40a9-9e3f-f47fa9ad58f0"
      },
      "outputs": [
        {
          "name": "stdout",
          "output_type": "stream",
          "text": [
            "\n",
            "\n",
            "CASTLE SWIMMER CHATBOT\n",
            "Chatbot: Hi! You can ask me about Castle Swimmer.\n",
            "You:Hi\n",
            "Chatbot: Hey\n",
            "You:Tell me about castle swimmer\n",
            "Chatbot: If you are keeping up with Wendy Lian Martin’s captivating webtoon, then you know that Castle Swimmer Season 2 has taken us deeper into mystery and intrigue. This gripping section delves into thefallout of the revelationin Chapter 82, where a conversation shows the depth of Siren’s curse and the apparent eternity tormenting him and his people. Castle Swimmer Chapter 83-89 raise the stakes, keeping secrets darker and more complex in character journeys than ever. Let’s get down to the exciting new chapters to experience them firsthand!\n",
            "You:Tell me about chapter 85\n",
            "Chatbot: Pim begins chapter 85 by profusely apologizing to Pagoon and Siren. She accepts her mistake of taking them all directly toward God’s Mouth instead of being more cautious, which could have killed all three of them. Later, Pim asks Siren how he is holding up. He tells her that he feels numb and has a headache, which are signs of emotional and physical stress. This conversation leads to Pim giving Siren a knife she discovered during their search. This knife brings a profoundly emotional moment, representing much about Siren’s past life. He reveals his mother’s scar on him as a painful memory. Even though filled with so much hate, he says that he still really misses his mom and tries to forget all those bitter memories completely. While reminiscing on what happened, Siren tells Pim she reminds him of his mother. He thought leaving the castle would help him let go of his old life and concentrate on saving other lives instead. Nonetheless, while they were in the trenches, some memories returned, indicating that the past would always haunt him one way or another. The chapter ends with Siren confiding in Pim about his escapades, which only opens a gateway for digging into his past life. This instance of being vulnerable and having trust builds up the plot as it allows readers to understand better Siren’s internal conflicts and how he relates with Pim. \n",
            "You:What about chapter 88\n",
            "Chatbot:  In Castle Swimmer Chapter 88, Queen Nethimir tells Kappa to return to the crab. He is unwillingly drawn towards the nearest prophecy, creating a central conflict in the chapter as his journey is not self-directed but driven by powers beyond him. Mucku asks if he can use his witch endurance to withstand this, but As he follows it, Kappa’s path leads him to an enigmatic castle from his past. Though the castle appears empty for many years, he is fearful because this place does not suit any prophecy. Sensing his distress, the Evil Queen questions him about its history. After getting no response, she decides they should leave. However, as they prepare to leave, Mono spots what seems to be a person hiding behind one of the trees and uses her magic power to capture this figure, revealing Queen Nee.   Castle Swimmer Chapter 89 starts with Queen Nee’s happiness at seeing Kappa again. He has visibly impressed her with his maturity, and she hopes Krilli will feel the same way when she sees him again. He asks them why they are outside their usual Blue Hills domain, discussing their appearance today withQueen Nee and Krilli. An incident at Castle Colony triggered their departure recently. The absence of the beacon resulted in a destruction frenzy among them and the castles’ demolition. Queen Krilli was surprised to learn that the people Kappa had met recently were “evil witches from the dark seas,” as described by Queen Nethimir. On the other hand, he replies that they are his friends who are helping him become an evil witch. While they talk further, he asks why they moved to Purple Peaks. In response, Queen Nee explains that there were so many abandoned castles here, which made it perfect for building a new one.\n",
            "You:Bye\n",
            "Chatbot: Goodbye!\n"
          ]
        }
      ],
      "source": [
        "chatbot()"
      ]
    },
    {
      "cell_type": "code",
      "execution_count": null,
      "id": "3ca53bff",
      "metadata": {
        "id": "3ca53bff"
      },
      "outputs": [],
      "source": []
    }
  ],
  "metadata": {
    "kernelspec": {
      "display_name": "tfkernel",
      "language": "python",
      "name": "tfkernel"
    },
    "language_info": {
      "codemirror_mode": {
        "name": "ipython",
        "version": 3
      },
      "file_extension": ".py",
      "mimetype": "text/x-python",
      "name": "python",
      "nbconvert_exporter": "python",
      "pygments_lexer": "ipython3",
      "version": "3.12.3"
    },
    "colab": {
      "provenance": [],
      "include_colab_link": true
    }
  },
  "nbformat": 4,
  "nbformat_minor": 5
}